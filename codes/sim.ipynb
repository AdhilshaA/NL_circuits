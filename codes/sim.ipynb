{
 "cells": [
  {
   "cell_type": "markdown",
   "metadata": {},
   "source": [
    "#### <font color=red> Lorenz</font>"
   ]
  },
  {
   "cell_type": "markdown",
   "metadata": {},
   "source": [
    "$$ \\dot{x} = \\alpha (y - x) $$\n",
    "$$ \\dot{y} = x (\\rho - z) - y $$\n",
    "$$ \\dot{z} = x y - \\beta z $$\n",
    "$$X = x / 10;\\quad Y = y / 10;\\quad Z = z / 30$$"
   ]
  },
  {
   "cell_type": "markdown",
   "metadata": {},
   "source": [
    "$$\n",
    "\\frac{{dX}}{{dt}} = \\frac{{- X - \\left(\\frac{{R_4}}{{R_1}}  X\\right) + \\left(\\frac{{R_4}}{{R_2}}  X\\right) + \\left(\\frac{{R_4}}{{R_3}}  Y\\right)}}{{C_1  R_5}}\n",
    "$$\n",
    "\n",
    "$$\n",
    "\\frac{{dY}}{{dt}} = \\frac{{- Y - \\left(\\frac{{R_{10}}}{{R_7}}  X  Z\\right) + \\left(\\frac{{R_{10}}}{{R_8}}  X\\right)}}{{C_2  R_{11}}}\n",
    "$$\n",
    "\n",
    "$$\n",
    "\\frac{{dZ}}{{dt}} = \\frac{{- Z - \\left(\\frac{{R_{16}}}{{R_{13}}}  Z\\right) + \\left(\\frac{{R_{16}}}{{R_{14}}}  X  Y\\right)}}{{C_3  R_{17}}}\n",
    "$$"
   ]
  },
  {
   "cell_type": "markdown",
   "metadata": {},
   "source": [
    "$$\\kappa = 5000$$"
   ]
  },
  {
   "cell_type": "markdown",
   "metadata": {},
   "source": [
    "Parameters:\n",
    "$$ R_1 = 10k\\Omega, R_2 = 100k\\Omega, R_3 = 10k\\Omega, R_4 = 100k\\Omega, R_5 = 1k\\Omega, R_6 = 5.6k\\Omega, R_7 = 3.3k\\Omega$$\n",
    "$$ R_8 = 3.6\\Omega, R_{9} = 3.19k\\Omega, R_{10} = 100k\\Omega, R_{11} = 1k\\Omega, R_{12} = 3.3k\\Omega, R_{14} = 37.5k\\Omega$$\n",
    "$$ R_{14} = 3.3k\\Omega,R_{15} = 3.74k\\Omega, R_{16} = 100k\\Omega, R_{17} = 1k\\Omega, R_{18} = 1k\\Omega, R_{19} = 9k\\Omega$$\n",
    "$$ C_1 = 200nF , C_2 = 200nF , C_3 = 200nF $$"
   ]
  },
  {
   "cell_type": "markdown",
   "metadata": {},
   "source": [
    "![Lorenz circuit](../figures/lorenz_circuit.png)"
   ]
  },
  {
   "cell_type": "markdown",
   "metadata": {},
   "source": [
    "#### <font color=red> Jerk</font>"
   ]
  },
  {
   "cell_type": "markdown",
   "metadata": {},
   "source": [
    "$$ \\dot{\\ddot{x}} + A\\ddot{x} + f(\\dot{x}) + x = 0 $$"
   ]
  },
  {
   "cell_type": "markdown",
   "metadata": {},
   "source": [
    "$$\n",
    "\\frac{{dx}}{{dt}} = \\frac{{y}}{{C_1 \\cdot R_1}}\n",
    "$$\n",
    "\n",
    "$$\n",
    "\\frac{{dy}}{{dt}} = \\frac{{z}}{{C_2 \\cdot R_2}}\n",
    "$$\n",
    "\n",
    "$$\n",
    "\\frac{{dz}}{{dt}} = \\frac{{- z - \\left(\\frac{{R_5}}{{R_6}} \\cdot x\\right) - \\left(R_5 h \\right)}}{{C_3 \\cdot R_5}}\n",
    "$$\n",
    "\n",
    "$$\n",
    "h = 10^{-9}  \\left(\\exp\\left(\\frac{{y}}{{\\alpha}}\\right) - 1\\right)"
   ]
  },
  {
   "cell_type": "markdown",
   "metadata": {},
   "source": [
    "$$ \\kappa = 1000 $$"
   ]
  },
  {
   "cell_type": "markdown",
   "metadata": {},
   "source": [
    "$$ R_1 = 1000 $$\n",
    "$$ R_2 = 1000 $$\n",
    "$$ R_3 = 1000 $$\n",
    "$$ R_4 = 1000 $$\n",
    "$$ R_5 = 1000 $$\n",
    "$$ R_6 = 1000 $$\n",
    "$$ C_1 = 0.000001 $$\n",
    "$$ C_2 = 0.000001 $$\n",
    "$$ C_3 = 0.000001 $$\n",
    "D = 1N4148 (Diode)"
   ]
  },
  {
   "cell_type": "markdown",
   "metadata": {},
   "source": [
    "![image](..\\figures\\jerk_circuit.png)"
   ]
  }
 ],
 "metadata": {
  "language_info": {
   "name": "python"
  }
 },
 "nbformat": 4,
 "nbformat_minor": 2
}
